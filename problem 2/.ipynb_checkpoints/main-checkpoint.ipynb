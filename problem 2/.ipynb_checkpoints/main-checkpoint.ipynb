{
 "cells": [
  {
   "cell_type": "code",
   "execution_count": 1,
   "metadata": {},
   "outputs": [
    {
     "name": "stdout",
     "output_type": "stream",
     "text": [
      "running on windows system\n",
      "find fragment 1\n",
      "find fragment 2\n",
      "find fragment 3\n",
      "find fragment 4\n",
      "find fragment 5\n",
      "find fragment 6\n",
      "find fragment 7\n",
      "find fragment 8\n",
      "find fragment 9\n",
      "find fragment 10\n",
      "find fragment 11\n",
      "find fragment 12\n",
      "find fragment 13\n",
      "find fragment 14\n",
      "find fragment 15\n",
      "find fragment 16\n",
      "find fragment 17\n",
      "find fragment 18\n",
      "find fragment 19\n",
      "No. of fragments: 19\n",
      "--------------------encode 1.j4d--------------------\n"
     ]
    },
    {
     "name": "stderr",
     "output_type": "stream",
     "text": [
      "DEBUG:root:Padded the file with 16 zero to have a round number of blocks of data\n",
      "INFO:root:generate 395 chunks after 2000 tries\n",
      "INFO:root:Finish generating 650 chunks after 3329 tries\n",
      "INFO:root:The length of a single chain is 100\n",
      "DEBUG:root:Padded the file with 5 zero to have a round number of blocks of data\n"
     ]
    },
    {
     "name": "stdout",
     "output_type": "stream",
     "text": [
      "--------------------encode 2.j4d--------------------\n"
     ]
    },
    {
     "name": "stderr",
     "output_type": "stream",
     "text": [
      "INFO:root:generate 379 chunks after 2000 tries\n",
      "INFO:root:generate 819 chunks after 4000 tries\n",
      "INFO:root:Finish generating 836 chunks after 4045 tries\n",
      "INFO:root:The length of a single chain is 100\n",
      "DEBUG:root:Padded the file with 13 zero to have a round number of blocks of data\n"
     ]
    },
    {
     "name": "stdout",
     "output_type": "stream",
     "text": [
      "--------------------encode 3.j4d--------------------\n"
     ]
    },
    {
     "name": "stderr",
     "output_type": "stream",
     "text": [
      "INFO:root:generate 430 chunks after 2000 tries\n",
      "INFO:root:generate 871 chunks after 4000 tries\n",
      "INFO:root:Finish generating 1256 chunks after 5701 tries\n",
      "INFO:root:The length of a single chain is 100\n",
      "DEBUG:root:Padded the file with 8 zero to have a round number of blocks of data\n"
     ]
    },
    {
     "name": "stdout",
     "output_type": "stream",
     "text": [
      "--------------------encode 4.j4d--------------------\n"
     ]
    },
    {
     "name": "stderr",
     "output_type": "stream",
     "text": [
      "INFO:root:generate 397 chunks after 2000 tries\n",
      "INFO:root:generate 843 chunks after 4000 tries\n",
      "INFO:root:generate 1299 chunks after 6000 tries\n",
      "INFO:root:Finish generating 1537 chunks after 7106 tries\n",
      "INFO:root:The length of a single chain is 100\n"
     ]
    },
    {
     "name": "stdout",
     "output_type": "stream",
     "text": [
      "--------------------encode 5.j4d--------------------\n"
     ]
    },
    {
     "name": "stderr",
     "output_type": "stream",
     "text": [
      "INFO:root:generate 415 chunks after 2000 tries\n",
      "INFO:root:generate 858 chunks after 4000 tries\n",
      "INFO:root:generate 1325 chunks after 6000 tries\n",
      "INFO:root:Finish generating 1616 chunks after 7433 tries\n",
      "INFO:root:The length of a single chain is 100\n",
      "DEBUG:root:Padded the file with 16 zero to have a round number of blocks of data\n"
     ]
    },
    {
     "name": "stdout",
     "output_type": "stream",
     "text": [
      "--------------------encode 6.j4d--------------------\n"
     ]
    },
    {
     "name": "stderr",
     "output_type": "stream",
     "text": [
      "INFO:root:generate 405 chunks after 2000 tries\n",
      "INFO:root:generate 838 chunks after 4000 tries\n",
      "INFO:root:generate 1293 chunks after 6000 tries\n",
      "INFO:root:Finish generating 1624 chunks after 7796 tries\n",
      "INFO:root:The length of a single chain is 100\n",
      "DEBUG:root:Padded the file with 12 zero to have a round number of blocks of data\n"
     ]
    },
    {
     "name": "stdout",
     "output_type": "stream",
     "text": [
      "--------------------encode 7.j4d--------------------\n"
     ]
    },
    {
     "name": "stderr",
     "output_type": "stream",
     "text": [
      "INFO:root:generate 398 chunks after 2000 tries\n",
      "INFO:root:generate 847 chunks after 4000 tries\n",
      "INFO:root:generate 1305 chunks after 6000 tries\n",
      "INFO:root:Finish generating 1628 chunks after 7432 tries\n",
      "INFO:root:The length of a single chain is 100\n",
      "DEBUG:root:Padded the file with 1 zero to have a round number of blocks of data\n"
     ]
    },
    {
     "name": "stdout",
     "output_type": "stream",
     "text": [
      "--------------------encode 8.j4d--------------------\n"
     ]
    },
    {
     "name": "stderr",
     "output_type": "stream",
     "text": [
      "INFO:root:generate 424 chunks after 2000 tries\n",
      "INFO:root:generate 862 chunks after 4000 tries\n",
      "INFO:root:generate 1336 chunks after 6000 tries\n",
      "INFO:root:generate 1766 chunks after 8000 tries\n",
      "INFO:root:generate 2174 chunks after 10000 tries\n",
      "INFO:root:generate 2624 chunks after 12000 tries\n",
      "INFO:root:generate 3022 chunks after 14000 tries\n",
      "INFO:root:generate 3447 chunks after 16000 tries\n",
      "INFO:root:generate 3890 chunks after 18000 tries\n",
      "INFO:root:generate 4304 chunks after 20000 tries\n",
      "INFO:root:generate 4778 chunks after 22000 tries\n",
      "INFO:root:generate 5230 chunks after 24000 tries\n",
      "INFO:root:generate 5627 chunks after 26000 tries\n",
      "INFO:root:generate 6046 chunks after 28000 tries\n",
      "INFO:root:generate 6515 chunks after 30000 tries\n",
      "INFO:root:generate 6949 chunks after 32000 tries\n",
      "INFO:root:generate 7412 chunks after 34000 tries\n",
      "INFO:root:generate 7866 chunks after 36000 tries\n",
      "INFO:root:generate 8283 chunks after 38000 tries\n",
      "INFO:root:generate 8729 chunks after 40000 tries\n",
      "INFO:root:generate 9162 chunks after 42000 tries\n",
      "INFO:root:generate 9596 chunks after 44000 tries\n",
      "INFO:root:generate 10020 chunks after 46000 tries\n",
      "INFO:root:generate 10471 chunks after 48000 tries\n",
      "INFO:root:generate 10911 chunks after 50000 tries\n",
      "INFO:root:generate 11313 chunks after 52000 tries\n",
      "INFO:root:generate 11748 chunks after 54000 tries\n",
      "INFO:root:generate 12184 chunks after 56000 tries\n",
      "INFO:root:generate 12640 chunks after 58000 tries\n",
      "INFO:root:Finish generating 12655 chunks after 58040 tries\n",
      "INFO:root:The length of a single chain is 100\n"
     ]
    },
    {
     "name": "stdout",
     "output_type": "stream",
     "text": [
      "--------------------encode 9.j4d--------------------\n"
     ]
    },
    {
     "name": "stderr",
     "output_type": "stream",
     "text": [
      "DEBUG:root:Padded the file with 12 zero to have a round number of blocks of data\n",
      "INFO:root:generate 413 chunks after 2000 tries\n",
      "INFO:root:generate 868 chunks after 4000 tries\n",
      "INFO:root:generate 1327 chunks after 6000 tries\n",
      "INFO:root:generate 1735 chunks after 8000 tries\n",
      "INFO:root:generate 2130 chunks after 10000 tries\n",
      "INFO:root:generate 2587 chunks after 12000 tries\n",
      "INFO:root:generate 3002 chunks after 14000 tries\n",
      "INFO:root:generate 3425 chunks after 16000 tries\n",
      "INFO:root:generate 3865 chunks after 18000 tries\n",
      "INFO:root:generate 4281 chunks after 20000 tries\n",
      "INFO:root:generate 4701 chunks after 22000 tries\n",
      "INFO:root:generate 5141 chunks after 24000 tries\n",
      "INFO:root:generate 5547 chunks after 26000 tries\n",
      "INFO:root:generate 5956 chunks after 28000 tries\n",
      "INFO:root:Finish generating 6301 chunks after 29439 tries\n",
      "INFO:root:The length of a single chain is 100\n"
     ]
    },
    {
     "name": "stdout",
     "output_type": "stream",
     "text": [
      "--------------------encode 10.j4d--------------------\n"
     ]
    },
    {
     "name": "stderr",
     "output_type": "stream",
     "text": [
      "DEBUG:root:Padded the file with 11 zero to have a round number of blocks of data\n",
      "INFO:root:generate 401 chunks after 2000 tries\n",
      "INFO:root:generate 856 chunks after 4000 tries\n",
      "INFO:root:generate 1336 chunks after 6000 tries\n",
      "INFO:root:generate 1775 chunks after 8000 tries\n",
      "INFO:root:generate 2190 chunks after 10000 tries\n",
      "INFO:root:generate 2655 chunks after 12000 tries\n",
      "INFO:root:generate 3062 chunks after 14000 tries\n",
      "INFO:root:generate 3507 chunks after 16000 tries\n",
      "INFO:root:generate 3976 chunks after 18000 tries\n",
      "INFO:root:generate 4404 chunks after 20000 tries\n",
      "INFO:root:generate 4895 chunks after 22000 tries\n",
      "INFO:root:generate 5309 chunks after 24000 tries\n",
      "INFO:root:Finish generating 5330 chunks after 24092 tries\n",
      "INFO:root:The length of a single chain is 100\n"
     ]
    },
    {
     "name": "stdout",
     "output_type": "stream",
     "text": [
      "--------------------encode 11.j4d--------------------\n"
     ]
    },
    {
     "name": "stderr",
     "output_type": "stream",
     "text": [
      "DEBUG:root:Padded the file with 13 zero to have a round number of blocks of data\n",
      "INFO:root:generate 395 chunks after 2000 tries\n",
      "INFO:root:generate 850 chunks after 4000 tries\n",
      "INFO:root:generate 1346 chunks after 6000 tries\n",
      "INFO:root:generate 1761 chunks after 8000 tries\n",
      "INFO:root:generate 2160 chunks after 10000 tries\n",
      "INFO:root:generate 2613 chunks after 12000 tries\n",
      "INFO:root:generate 3041 chunks after 14000 tries\n",
      "INFO:root:generate 3492 chunks after 16000 tries\n",
      "INFO:root:generate 3959 chunks after 18000 tries\n",
      "INFO:root:generate 4383 chunks after 20000 tries\n",
      "INFO:root:generate 4858 chunks after 22000 tries\n",
      "INFO:root:generate 5285 chunks after 24000 tries\n",
      "INFO:root:generate 5710 chunks after 26000 tries\n",
      "INFO:root:generate 6123 chunks after 28000 tries\n",
      "INFO:root:generate 6614 chunks after 30000 tries\n",
      "INFO:root:generate 7049 chunks after 32000 tries\n",
      "INFO:root:generate 7508 chunks after 34000 tries\n",
      "INFO:root:generate 7967 chunks after 36000 tries\n",
      "INFO:root:generate 8403 chunks after 38000 tries\n",
      "INFO:root:generate 8836 chunks after 40000 tries\n",
      "INFO:root:generate 9274 chunks after 42000 tries\n",
      "INFO:root:generate 9693 chunks after 44000 tries\n",
      "INFO:root:generate 10132 chunks after 46000 tries\n",
      "INFO:root:generate 10580 chunks after 48000 tries\n",
      "INFO:root:generate 10995 chunks after 50000 tries\n",
      "INFO:root:generate 11423 chunks after 52000 tries\n",
      "INFO:root:generate 11854 chunks after 54000 tries\n",
      "INFO:root:generate 12271 chunks after 56000 tries\n",
      "INFO:root:generate 12681 chunks after 58000 tries\n",
      "INFO:root:generate 13159 chunks after 60000 tries\n",
      "INFO:root:generate 13589 chunks after 62000 tries\n",
      "INFO:root:generate 14011 chunks after 64000 tries\n",
      "INFO:root:generate 14458 chunks after 66000 tries\n",
      "INFO:root:generate 14876 chunks after 68000 tries\n",
      "INFO:root:generate 15308 chunks after 70000 tries\n",
      "INFO:root:generate 15737 chunks after 72000 tries\n",
      "INFO:root:generate 16184 chunks after 74000 tries\n",
      "INFO:root:generate 16596 chunks after 76000 tries\n",
      "INFO:root:generate 17049 chunks after 78000 tries\n",
      "INFO:root:generate 17483 chunks after 80000 tries\n",
      "INFO:root:generate 17923 chunks after 82000 tries\n",
      "INFO:root:generate 18346 chunks after 84000 tries\n",
      "INFO:root:generate 18788 chunks after 86000 tries\n",
      "INFO:root:generate 19218 chunks after 88000 tries\n",
      "INFO:root:generate 19646 chunks after 90000 tries\n",
      "INFO:root:generate 20131 chunks after 92000 tries\n",
      "INFO:root:generate 20577 chunks after 94000 tries\n",
      "INFO:root:generate 21020 chunks after 96000 tries\n",
      "INFO:root:generate 21455 chunks after 98000 tries\n",
      "INFO:root:generate 21840 chunks after 100000 tries\n",
      "INFO:root:generate 22308 chunks after 102000 tries\n",
      "INFO:root:generate 22731 chunks after 104000 tries\n",
      "INFO:root:generate 23167 chunks after 106000 tries\n",
      "INFO:root:generate 23580 chunks after 108000 tries\n",
      "INFO:root:generate 24053 chunks after 110000 tries\n",
      "INFO:root:generate 24477 chunks after 112000 tries\n",
      "INFO:root:generate 24901 chunks after 114000 tries\n",
      "INFO:root:generate 25346 chunks after 116000 tries\n",
      "INFO:root:generate 25755 chunks after 118000 tries\n",
      "INFO:root:generate 26194 chunks after 120000 tries\n",
      "INFO:root:generate 26643 chunks after 122000 tries\n",
      "INFO:root:generate 27094 chunks after 124000 tries\n",
      "INFO:root:generate 27517 chunks after 126000 tries\n",
      "INFO:root:generate 27934 chunks after 128000 tries\n",
      "INFO:root:generate 28342 chunks after 130000 tries\n",
      "INFO:root:generate 28769 chunks after 132000 tries\n",
      "INFO:root:generate 29189 chunks after 134000 tries\n",
      "INFO:root:generate 29645 chunks after 136000 tries\n",
      "INFO:root:generate 30093 chunks after 138000 tries\n",
      "INFO:root:generate 30515 chunks after 140000 tries\n",
      "INFO:root:generate 30936 chunks after 142000 tries\n",
      "INFO:root:generate 31361 chunks after 144000 tries\n",
      "INFO:root:generate 31768 chunks after 146000 tries\n",
      "INFO:root:generate 32246 chunks after 148000 tries\n",
      "INFO:root:generate 32682 chunks after 150000 tries\n",
      "INFO:root:generate 33091 chunks after 152000 tries\n",
      "INFO:root:generate 33462 chunks after 154000 tries\n",
      "INFO:root:generate 33913 chunks after 156000 tries\n",
      "INFO:root:generate 34361 chunks after 158000 tries\n",
      "INFO:root:generate 34801 chunks after 160000 tries\n",
      "INFO:root:generate 35265 chunks after 162000 tries\n",
      "INFO:root:generate 35713 chunks after 164000 tries\n",
      "INFO:root:generate 36150 chunks after 166000 tries\n",
      "INFO:root:generate 36583 chunks after 168000 tries\n",
      "INFO:root:generate 36995 chunks after 170000 tries\n",
      "INFO:root:generate 37386 chunks after 172000 tries\n",
      "INFO:root:generate 37840 chunks after 174000 tries\n",
      "INFO:root:generate 38263 chunks after 176000 tries\n",
      "INFO:root:generate 38679 chunks after 178000 tries\n",
      "INFO:root:generate 39141 chunks after 180000 tries\n",
      "INFO:root:generate 39550 chunks after 182000 tries\n",
      "INFO:root:generate 40010 chunks after 184000 tries\n",
      "INFO:root:generate 40413 chunks after 186000 tries\n",
      "INFO:root:generate 40844 chunks after 188000 tries\n",
      "INFO:root:generate 41266 chunks after 190000 tries\n",
      "INFO:root:generate 41693 chunks after 192000 tries\n",
      "INFO:root:generate 42167 chunks after 194000 tries\n",
      "INFO:root:generate 42600 chunks after 196000 tries\n",
      "INFO:root:generate 43058 chunks after 198000 tries\n",
      "INFO:root:Finish generating 43340 chunks after 199248 tries\n",
      "INFO:root:The length of a single chain is 100\n"
     ]
    },
    {
     "name": "stdout",
     "output_type": "stream",
     "text": [
      "--------------------encode 12.j4d--------------------\n"
     ]
    },
    {
     "name": "stderr",
     "output_type": "stream",
     "text": [
      "DEBUG:root:Padded the file with 12 zero to have a round number of blocks of data\n",
      "INFO:root:generate 384 chunks after 2000 tries\n",
      "INFO:root:generate 856 chunks after 4000 tries\n",
      "INFO:root:generate 1329 chunks after 6000 tries\n",
      "INFO:root:Finish generating 1628 chunks after 7424 tries\n",
      "INFO:root:The length of a single chain is 100\n"
     ]
    },
    {
     "name": "stdout",
     "output_type": "stream",
     "text": [
      "--------------------encode 13.j4d--------------------\n"
     ]
    },
    {
     "name": "stderr",
     "output_type": "stream",
     "text": [
      "DEBUG:root:Padded the file with 13 zero to have a round number of blocks of data\n",
      "INFO:root:generate 422 chunks after 2000 tries\n",
      "INFO:root:generate 847 chunks after 4000 tries\n",
      "INFO:root:generate 1325 chunks after 6000 tries\n",
      "INFO:root:generate 1737 chunks after 8000 tries\n",
      "INFO:root:generate 2155 chunks after 10000 tries\n",
      "INFO:root:generate 2615 chunks after 12000 tries\n",
      "INFO:root:generate 3014 chunks after 14000 tries\n",
      "INFO:root:generate 3428 chunks after 16000 tries\n",
      "INFO:root:generate 3908 chunks after 18000 tries\n",
      "INFO:root:generate 4347 chunks after 20000 tries\n",
      "INFO:root:generate 4789 chunks after 22000 tries\n",
      "INFO:root:generate 5213 chunks after 24000 tries\n",
      "INFO:root:generate 5616 chunks after 26000 tries\n",
      "INFO:root:generate 6009 chunks after 28000 tries\n",
      "INFO:root:generate 6488 chunks after 30000 tries\n",
      "INFO:root:generate 6902 chunks after 32000 tries\n",
      "INFO:root:generate 7370 chunks after 34000 tries\n",
      "INFO:root:generate 7805 chunks after 36000 tries\n",
      "INFO:root:Finish generating 8102 chunks after 37191 tries\n",
      "INFO:root:The length of a single chain is 100\n"
     ]
    },
    {
     "name": "stdout",
     "output_type": "stream",
     "text": [
      "--------------------encode 14.j4d--------------------\n"
     ]
    },
    {
     "name": "stderr",
     "output_type": "stream",
     "text": [
      "DEBUG:root:Padded the file with 5 zero to have a round number of blocks of data\n",
      "INFO:root:generate 414 chunks after 2000 tries\n",
      "INFO:root:generate 839 chunks after 4000 tries\n",
      "INFO:root:generate 1275 chunks after 6000 tries\n",
      "INFO:root:generate 1685 chunks after 8000 tries\n",
      "INFO:root:generate 2076 chunks after 10000 tries\n",
      "INFO:root:generate 2502 chunks after 12000 tries\n",
      "INFO:root:generate 2920 chunks after 14000 tries\n",
      "INFO:root:generate 3340 chunks after 16000 tries\n",
      "INFO:root:generate 3786 chunks after 18000 tries\n",
      "INFO:root:generate 4244 chunks after 20000 tries\n",
      "INFO:root:generate 4713 chunks after 22000 tries\n",
      "INFO:root:generate 5162 chunks after 24000 tries\n",
      "INFO:root:generate 5603 chunks after 26000 tries\n",
      "INFO:root:generate 5997 chunks after 28000 tries\n",
      "INFO:root:generate 6484 chunks after 30000 tries\n",
      "INFO:root:generate 6895 chunks after 32000 tries\n",
      "INFO:root:generate 7338 chunks after 34000 tries\n",
      "INFO:root:generate 7778 chunks after 36000 tries\n",
      "INFO:root:generate 8231 chunks after 38000 tries\n",
      "INFO:root:generate 8666 chunks after 40000 tries\n",
      "INFO:root:generate 9079 chunks after 42000 tries\n",
      "INFO:root:generate 9530 chunks after 44000 tries\n",
      "INFO:root:generate 9991 chunks after 46000 tries\n",
      "INFO:root:generate 10427 chunks after 48000 tries\n",
      "INFO:root:generate 10872 chunks after 50000 tries\n",
      "INFO:root:generate 11319 chunks after 52000 tries\n",
      "INFO:root:generate 11767 chunks after 54000 tries\n",
      "INFO:root:generate 12170 chunks after 56000 tries\n",
      "INFO:root:generate 12620 chunks after 58000 tries\n",
      "INFO:root:generate 13062 chunks after 60000 tries\n",
      "INFO:root:generate 13484 chunks after 62000 tries\n",
      "INFO:root:generate 13905 chunks after 64000 tries\n",
      "INFO:root:generate 14324 chunks after 66000 tries\n",
      "INFO:root:generate 14754 chunks after 68000 tries\n",
      "INFO:root:generate 15194 chunks after 70000 tries\n",
      "INFO:root:generate 15613 chunks after 72000 tries\n",
      "INFO:root:generate 16053 chunks after 74000 tries\n",
      "INFO:root:generate 16458 chunks after 76000 tries\n",
      "INFO:root:generate 16915 chunks after 78000 tries\n",
      "INFO:root:generate 17377 chunks after 80000 tries\n",
      "INFO:root:generate 17806 chunks after 82000 tries\n",
      "INFO:root:generate 18208 chunks after 84000 tries\n",
      "INFO:root:Finish generating 18359 chunks after 84620 tries\n",
      "INFO:root:The length of a single chain is 100\n",
      "DEBUG:root:Padded the file with 4 zero to have a round number of blocks of data\n"
     ]
    },
    {
     "name": "stdout",
     "output_type": "stream",
     "text": [
      "--------------------encode 15.j4d--------------------\n"
     ]
    },
    {
     "name": "stderr",
     "output_type": "stream",
     "text": [
      "INFO:root:generate 412 chunks after 2000 tries\n",
      "INFO:root:generate 853 chunks after 4000 tries\n",
      "INFO:root:generate 1331 chunks after 6000 tries\n",
      "INFO:root:Finish generating 1630 chunks after 7444 tries\n",
      "INFO:root:The length of a single chain is 100\n"
     ]
    },
    {
     "name": "stdout",
     "output_type": "stream",
     "text": [
      "--------------------encode 16.j4d--------------------\n"
     ]
    },
    {
     "name": "stderr",
     "output_type": "stream",
     "text": [
      "DEBUG:root:Padded the file with 6 zero to have a round number of blocks of data\n",
      "INFO:root:generate 413 chunks after 2000 tries\n",
      "INFO:root:generate 813 chunks after 4000 tries\n",
      "INFO:root:generate 1320 chunks after 6000 tries\n",
      "INFO:root:generate 1708 chunks after 8000 tries\n",
      "INFO:root:generate 2142 chunks after 10000 tries\n",
      "INFO:root:generate 2619 chunks after 12000 tries\n",
      "INFO:root:generate 2998 chunks after 14000 tries\n",
      "INFO:root:generate 3407 chunks after 16000 tries\n",
      "INFO:root:generate 3822 chunks after 18000 tries\n",
      "INFO:root:generate 4250 chunks after 20000 tries\n",
      "INFO:root:generate 4684 chunks after 22000 tries\n",
      "INFO:root:generate 5130 chunks after 24000 tries\n",
      "INFO:root:generate 5553 chunks after 26000 tries\n",
      "INFO:root:generate 5982 chunks after 28000 tries\n",
      "INFO:root:generate 6451 chunks after 30000 tries\n",
      "INFO:root:generate 6861 chunks after 32000 tries\n",
      "INFO:root:generate 7358 chunks after 34000 tries\n",
      "INFO:root:generate 7825 chunks after 36000 tries\n",
      "INFO:root:generate 8243 chunks after 38000 tries\n",
      "INFO:root:generate 8689 chunks after 40000 tries\n",
      "INFO:root:generate 9112 chunks after 42000 tries\n",
      "INFO:root:generate 9519 chunks after 44000 tries\n",
      "INFO:root:generate 9960 chunks after 46000 tries\n",
      "INFO:root:generate 10420 chunks after 48000 tries\n",
      "INFO:root:generate 10829 chunks after 50000 tries\n",
      "INFO:root:generate 11253 chunks after 52000 tries\n",
      "INFO:root:generate 11679 chunks after 54000 tries\n",
      "INFO:root:generate 12069 chunks after 56000 tries\n",
      "INFO:root:generate 12487 chunks after 58000 tries\n",
      "INFO:root:generate 12971 chunks after 60000 tries\n",
      "INFO:root:generate 13368 chunks after 62000 tries\n",
      "INFO:root:generate 13818 chunks after 64000 tries\n",
      "INFO:root:generate 14260 chunks after 66000 tries\n",
      "INFO:root:generate 14702 chunks after 68000 tries\n",
      "INFO:root:generate 15123 chunks after 70000 tries\n",
      "INFO:root:Finish generating 15341 chunks after 70982 tries\n",
      "INFO:root:The length of a single chain is 100\n",
      "DEBUG:root:Padded the file with 11 zero to have a round number of blocks of data\n"
     ]
    },
    {
     "name": "stdout",
     "output_type": "stream",
     "text": [
      "--------------------encode 17.j4d--------------------\n"
     ]
    },
    {
     "name": "stderr",
     "output_type": "stream",
     "text": [
      "INFO:root:generate 423 chunks after 2000 tries\n",
      "INFO:root:generate 851 chunks after 4000 tries\n",
      "INFO:root:generate 1306 chunks after 6000 tries\n",
      "INFO:root:generate 1718 chunks after 8000 tries\n",
      "INFO:root:generate 2145 chunks after 10000 tries\n",
      "INFO:root:generate 2586 chunks after 12000 tries\n",
      "INFO:root:generate 2980 chunks after 14000 tries\n",
      "INFO:root:generate 3424 chunks after 16000 tries\n",
      "INFO:root:generate 3889 chunks after 18000 tries\n",
      "INFO:root:generate 4292 chunks after 20000 tries\n",
      "INFO:root:generate 4771 chunks after 22000 tries\n",
      "INFO:root:generate 5186 chunks after 24000 tries\n",
      "INFO:root:generate 5595 chunks after 26000 tries\n",
      "INFO:root:generate 6001 chunks after 28000 tries\n",
      "INFO:root:generate 6487 chunks after 30000 tries\n",
      "INFO:root:generate 6882 chunks after 32000 tries\n",
      "INFO:root:generate 7337 chunks after 34000 tries\n",
      "INFO:root:generate 7787 chunks after 36000 tries\n",
      "INFO:root:generate 8177 chunks after 38000 tries\n",
      "INFO:root:generate 8604 chunks after 40000 tries\n",
      "INFO:root:generate 9049 chunks after 42000 tries\n",
      "INFO:root:generate 9511 chunks after 44000 tries\n",
      "INFO:root:generate 9960 chunks after 46000 tries\n",
      "INFO:root:generate 10421 chunks after 48000 tries\n",
      "INFO:root:generate 10871 chunks after 50000 tries\n",
      "INFO:root:generate 11281 chunks after 52000 tries\n",
      "INFO:root:generate 11700 chunks after 54000 tries\n",
      "INFO:root:generate 12137 chunks after 56000 tries\n",
      "INFO:root:generate 12578 chunks after 58000 tries\n",
      "INFO:root:Finish generating 12698 chunks after 58504 tries\n",
      "INFO:root:The length of a single chain is 100\n"
     ]
    },
    {
     "name": "stdout",
     "output_type": "stream",
     "text": [
      "--------------------encode 18.j4d--------------------\n"
     ]
    },
    {
     "name": "stderr",
     "output_type": "stream",
     "text": [
      "DEBUG:root:Padded the file with 9 zero to have a round number of blocks of data\n",
      "INFO:root:generate 412 chunks after 2000 tries\n",
      "INFO:root:generate 830 chunks after 4000 tries\n",
      "INFO:root:generate 1299 chunks after 6000 tries\n",
      "INFO:root:generate 1682 chunks after 8000 tries\n",
      "INFO:root:generate 2109 chunks after 10000 tries\n",
      "INFO:root:generate 2569 chunks after 12000 tries\n",
      "INFO:root:generate 2966 chunks after 14000 tries\n",
      "INFO:root:generate 3427 chunks after 16000 tries\n",
      "INFO:root:generate 3897 chunks after 18000 tries\n",
      "INFO:root:generate 4313 chunks after 20000 tries\n",
      "INFO:root:generate 4761 chunks after 22000 tries\n",
      "INFO:root:generate 5224 chunks after 24000 tries\n",
      "INFO:root:generate 5649 chunks after 26000 tries\n",
      "INFO:root:generate 6081 chunks after 28000 tries\n",
      "INFO:root:generate 6549 chunks after 30000 tries\n",
      "INFO:root:generate 6952 chunks after 32000 tries\n",
      "INFO:root:generate 7428 chunks after 34000 tries\n",
      "INFO:root:generate 7858 chunks after 36000 tries\n",
      "INFO:root:generate 8260 chunks after 38000 tries\n",
      "INFO:root:generate 8707 chunks after 40000 tries\n",
      "INFO:root:generate 9149 chunks after 42000 tries\n",
      "INFO:root:generate 9577 chunks after 44000 tries\n",
      "INFO:root:generate 9995 chunks after 46000 tries\n",
      "INFO:root:generate 10396 chunks after 48000 tries\n",
      "INFO:root:generate 10833 chunks after 50000 tries\n",
      "INFO:root:generate 11286 chunks after 52000 tries\n",
      "INFO:root:generate 11752 chunks after 54000 tries\n",
      "INFO:root:generate 12189 chunks after 56000 tries\n",
      "INFO:root:generate 12613 chunks after 58000 tries\n",
      "INFO:root:generate 13035 chunks after 60000 tries\n",
      "INFO:root:generate 13510 chunks after 62000 tries\n",
      "INFO:root:generate 13929 chunks after 64000 tries\n",
      "INFO:root:generate 14373 chunks after 66000 tries\n",
      "INFO:root:generate 14799 chunks after 68000 tries\n",
      "INFO:root:generate 15191 chunks after 70000 tries\n",
      "INFO:root:generate 15638 chunks after 72000 tries\n",
      "INFO:root:generate 16096 chunks after 74000 tries\n",
      "INFO:root:generate 16490 chunks after 76000 tries\n",
      "INFO:root:generate 16946 chunks after 78000 tries\n",
      "INFO:root:generate 17403 chunks after 80000 tries\n",
      "INFO:root:generate 17870 chunks after 82000 tries\n",
      "INFO:root:generate 18330 chunks after 84000 tries\n",
      "INFO:root:generate 18786 chunks after 86000 tries\n",
      "INFO:root:generate 19258 chunks after 88000 tries\n",
      "INFO:root:generate 19698 chunks after 90000 tries\n",
      "INFO:root:generate 20151 chunks after 92000 tries\n",
      "INFO:root:generate 20578 chunks after 94000 tries\n",
      "INFO:root:generate 21023 chunks after 96000 tries\n",
      "INFO:root:generate 21434 chunks after 98000 tries\n",
      "INFO:root:generate 21870 chunks after 100000 tries\n",
      "INFO:root:generate 22307 chunks after 102000 tries\n",
      "INFO:root:generate 22748 chunks after 104000 tries\n",
      "INFO:root:generate 23185 chunks after 106000 tries\n",
      "INFO:root:generate 23621 chunks after 108000 tries\n",
      "INFO:root:generate 24041 chunks after 110000 tries\n",
      "INFO:root:generate 24522 chunks after 112000 tries\n",
      "INFO:root:generate 24950 chunks after 114000 tries\n",
      "INFO:root:generate 25369 chunks after 116000 tries\n",
      "INFO:root:generate 25785 chunks after 118000 tries\n",
      "INFO:root:generate 26222 chunks after 120000 tries\n",
      "INFO:root:generate 26690 chunks after 122000 tries\n",
      "INFO:root:generate 27149 chunks after 124000 tries\n",
      "INFO:root:generate 27608 chunks after 126000 tries\n",
      "INFO:root:generate 27994 chunks after 128000 tries\n",
      "INFO:root:generate 28423 chunks after 130000 tries\n",
      "INFO:root:generate 28830 chunks after 132000 tries\n",
      "INFO:root:generate 29244 chunks after 134000 tries\n",
      "INFO:root:generate 29701 chunks after 136000 tries\n",
      "INFO:root:generate 30150 chunks after 138000 tries\n",
      "INFO:root:generate 30587 chunks after 140000 tries\n",
      "INFO:root:generate 31005 chunks after 142000 tries\n",
      "INFO:root:generate 31435 chunks after 144000 tries\n",
      "INFO:root:generate 31827 chunks after 146000 tries\n",
      "INFO:root:generate 32285 chunks after 148000 tries\n",
      "INFO:root:generate 32689 chunks after 150000 tries\n",
      "INFO:root:generate 33121 chunks after 152000 tries\n",
      "INFO:root:generate 33519 chunks after 154000 tries\n",
      "INFO:root:generate 33946 chunks after 156000 tries\n",
      "INFO:root:generate 34395 chunks after 158000 tries\n",
      "INFO:root:generate 34822 chunks after 160000 tries\n",
      "INFO:root:generate 35259 chunks after 162000 tries\n",
      "INFO:root:generate 35707 chunks after 164000 tries\n",
      "INFO:root:generate 36162 chunks after 166000 tries\n",
      "INFO:root:generate 36630 chunks after 168000 tries\n",
      "INFO:root:generate 37071 chunks after 170000 tries\n",
      "INFO:root:generate 37485 chunks after 172000 tries\n",
      "INFO:root:generate 37879 chunks after 174000 tries\n",
      "INFO:root:generate 38289 chunks after 176000 tries\n",
      "INFO:root:generate 38756 chunks after 178000 tries\n",
      "INFO:root:generate 39235 chunks after 180000 tries\n",
      "INFO:root:generate 39672 chunks after 182000 tries\n",
      "INFO:root:generate 40120 chunks after 184000 tries\n",
      "INFO:root:generate 40543 chunks after 186000 tries\n",
      "INFO:root:generate 40996 chunks after 188000 tries\n",
      "INFO:root:generate 41420 chunks after 190000 tries\n",
      "INFO:root:generate 41844 chunks after 192000 tries\n",
      "INFO:root:generate 42300 chunks after 194000 tries\n",
      "INFO:root:generate 42718 chunks after 196000 tries\n",
      "INFO:root:generate 43186 chunks after 198000 tries\n",
      "INFO:root:generate 43614 chunks after 200000 tries\n",
      "INFO:root:generate 44034 chunks after 202000 tries\n",
      "INFO:root:generate 44460 chunks after 204000 tries\n",
      "INFO:root:generate 44918 chunks after 206000 tries\n",
      "INFO:root:generate 45364 chunks after 208000 tries\n",
      "INFO:root:generate 45787 chunks after 210000 tries\n",
      "INFO:root:generate 46223 chunks after 212000 tries\n",
      "INFO:root:generate 46692 chunks after 214000 tries\n",
      "INFO:root:generate 47111 chunks after 216000 tries\n",
      "INFO:root:generate 47554 chunks after 218000 tries\n",
      "INFO:root:generate 47964 chunks after 220000 tries\n",
      "INFO:root:generate 48432 chunks after 222000 tries\n",
      "INFO:root:generate 48886 chunks after 224000 tries\n",
      "INFO:root:generate 49325 chunks after 226000 tries\n",
      "INFO:root:generate 49744 chunks after 228000 tries\n",
      "INFO:root:generate 50194 chunks after 230000 tries\n",
      "INFO:root:generate 50653 chunks after 232000 tries\n",
      "INFO:root:generate 51081 chunks after 234000 tries\n",
      "INFO:root:generate 51510 chunks after 236000 tries\n",
      "INFO:root:generate 51925 chunks after 238000 tries\n",
      "INFO:root:generate 52365 chunks after 240000 tries\n",
      "INFO:root:generate 52795 chunks after 242000 tries\n",
      "INFO:root:Finish generating 53177 chunks after 243858 tries\n",
      "INFO:root:The length of a single chain is 100\n"
     ]
    },
    {
     "ename": "IndexError",
     "evalue": "list index out of range",
     "output_type": "error",
     "traceback": [
      "\u001b[1;31m---------------------------------------------------------------------------\u001b[0m",
      "\u001b[1;31mIndexError\u001b[0m                                Traceback (most recent call last)",
      "\u001b[1;32m<ipython-input-1-74888d2be029>\u001b[0m in \u001b[0;36m<module>\u001b[1;34m\u001b[0m\n\u001b[0;32m     29\u001b[0m \u001b[1;33m\u001b[0m\u001b[0m\n\u001b[0;32m     30\u001b[0m \u001b[1;32mif\u001b[0m \u001b[0m__name__\u001b[0m \u001b[1;33m==\u001b[0m \u001b[1;34m'__main__'\u001b[0m\u001b[1;33m:\u001b[0m\u001b[1;33m\u001b[0m\u001b[1;33m\u001b[0m\u001b[0m\n\u001b[1;32m---> 31\u001b[1;33m     \u001b[0mmain\u001b[0m\u001b[1;33m(\u001b[0m\u001b[1;33m)\u001b[0m\u001b[1;33m\u001b[0m\u001b[1;33m\u001b[0m\u001b[0m\n\u001b[0m",
      "\u001b[1;32m<ipython-input-1-74888d2be029>\u001b[0m in \u001b[0;36mmain\u001b[1;34m()\u001b[0m\n\u001b[0;32m     23\u001b[0m \u001b[1;33m\u001b[0m\u001b[0m\n\u001b[0;32m     24\u001b[0m     \u001b[1;31m# Decode the DNA into fragments\u001b[0m\u001b[1;33m\u001b[0m\u001b[1;33m\u001b[0m\u001b[1;33m\u001b[0m\u001b[0m\n\u001b[1;32m---> 25\u001b[1;33m     \u001b[0mdnaTF\u001b[0m\u001b[1;33m.\u001b[0m\u001b[0mall_decode\u001b[0m\u001b[1;33m(\u001b[0m\u001b[1;33m)\u001b[0m\u001b[1;33m\u001b[0m\u001b[1;33m\u001b[0m\u001b[0m\n\u001b[0m\u001b[0;32m     26\u001b[0m \u001b[1;33m\u001b[0m\u001b[0m\n\u001b[0;32m     27\u001b[0m     \u001b[1;31m# Progressive read the fragments\u001b[0m\u001b[1;33m\u001b[0m\u001b[1;33m\u001b[0m\u001b[1;33m\u001b[0m\u001b[0m\n",
      "\u001b[1;32m~\\Downloads\\DSP-prob.2\\J4D\\DNA_transformer.py\u001b[0m in \u001b[0;36mall_decode\u001b[1;34m(self)\u001b[0m\n\u001b[0;32m     63\u001b[0m             \u001b[0mf_csv\u001b[0m \u001b[1;33m=\u001b[0m \u001b[0mcsv\u001b[0m\u001b[1;33m.\u001b[0m\u001b[0mreader\u001b[0m\u001b[1;33m(\u001b[0m\u001b[0mf\u001b[0m\u001b[1;33m)\u001b[0m\u001b[1;33m\u001b[0m\u001b[1;33m\u001b[0m\u001b[0m\n\u001b[0;32m     64\u001b[0m             \u001b[1;32mfor\u001b[0m \u001b[0mline\u001b[0m \u001b[1;32min\u001b[0m \u001b[0mf_csv\u001b[0m\u001b[1;33m:\u001b[0m\u001b[1;33m\u001b[0m\u001b[1;33m\u001b[0m\u001b[0m\n\u001b[1;32m---> 65\u001b[1;33m                 \u001b[0mparam\u001b[0m\u001b[1;33m.\u001b[0m\u001b[0mappend\u001b[0m\u001b[1;33m(\u001b[0m\u001b[1;33m[\u001b[0m\u001b[0mint\u001b[0m\u001b[1;33m(\u001b[0m\u001b[0mline\u001b[0m\u001b[1;33m[\u001b[0m\u001b[1;36m0\u001b[0m\u001b[1;33m]\u001b[0m\u001b[1;33m)\u001b[0m\u001b[1;33m,\u001b[0m \u001b[0mint\u001b[0m\u001b[1;33m(\u001b[0m\u001b[0mline\u001b[0m\u001b[1;33m[\u001b[0m\u001b[1;36m1\u001b[0m\u001b[1;33m]\u001b[0m\u001b[1;33m)\u001b[0m\u001b[1;33m]\u001b[0m\u001b[1;33m)\u001b[0m\u001b[1;33m\u001b[0m\u001b[1;33m\u001b[0m\u001b[0m\n\u001b[0m\u001b[0;32m     66\u001b[0m         \u001b[1;32mfor\u001b[0m \u001b[0mi\u001b[0m \u001b[1;32min\u001b[0m \u001b[0mrange\u001b[0m\u001b[1;33m(\u001b[0m\u001b[0mlen\u001b[0m\u001b[1;33m(\u001b[0m\u001b[0mfile_names\u001b[0m\u001b[1;33m)\u001b[0m\u001b[1;33m)\u001b[0m\u001b[1;33m:\u001b[0m\u001b[1;33m\u001b[0m\u001b[1;33m\u001b[0m\u001b[0m\n\u001b[0;32m     67\u001b[0m             \u001b[0mprint\u001b[0m\u001b[1;33m(\u001b[0m\u001b[1;34m'-'\u001b[0m\u001b[1;33m*\u001b[0m\u001b[1;36m20\u001b[0m\u001b[1;33m+\u001b[0m\u001b[1;34m'decode '\u001b[0m\u001b[1;33m+\u001b[0m\u001b[0mfile_names\u001b[0m\u001b[1;33m[\u001b[0m\u001b[0mi\u001b[0m\u001b[1;33m]\u001b[0m\u001b[1;33m+\u001b[0m\u001b[1;34m'-'\u001b[0m\u001b[1;33m*\u001b[0m\u001b[1;36m20\u001b[0m\u001b[1;33m)\u001b[0m\u001b[1;33m\u001b[0m\u001b[1;33m\u001b[0m\u001b[0m\n",
      "\u001b[1;31mIndexError\u001b[0m: list index out of range"
     ]
    }
   ],
   "source": [
    "from DNA_transformer import *\n",
    "from J4D import *\n",
    "import os\n",
    "\n",
    "def main():\n",
    "\n",
    "    folder_path = 'C:\\\\Users\\\\Ghada\\\\Downloads\\\\DSP-prob.2\\\\J4D\\\\'\n",
    "\n",
    "    infile_folder = os.path.join(folder_path, 'output/j4d')\n",
    "    dna_folder = os.path.join(folder_path, 'dna_file')\n",
    "    message = os.path.join(folder_path, 'message.csv')\n",
    "    outfile_folder = os.path.join(folder_path, 'outfile/j4d')\n",
    "    dnaTF = DNA_transformer(infile_folder, dna_folder, message, outfile_folder)\n",
    "\n",
    "\n",
    "    # JPEG split into fragments\n",
    "    jpegTF = J4D()\n",
    "    cnt = jpegTF.encode('original.jpg', output_dir=os.path.join(folder_path,'output'))\n",
    "    print(\"No. of fragments: {}\".format(cnt))\n",
    "\n",
    "    # Encode the fragments into DNA\n",
    "    dnaTF.all_encode()\n",
    "\n",
    "    # Decode the DNA into fragments\n",
    "    dnaTF.all_decode()\n",
    "\n",
    "    # Progressive read the fragments\n",
    "    jpegTF.decode(cnt, encode_dir=os.path.join(folder_path, 'outfile'),output_dir=os.path.join(folder_path, 'scan_img'), zipfile_dir=infile_folder)\n",
    "\n",
    "if __name__ == '__main__':\n",
    "    main()"
   ]
  },
  {
   "cell_type": "code",
   "execution_count": null,
   "metadata": {},
   "outputs": [],
   "source": []
  },
  {
   "cell_type": "code",
   "execution_count": null,
   "metadata": {},
   "outputs": [],
   "source": []
  }
 ],
 "metadata": {
  "kernelspec": {
   "display_name": "Python 3",
   "language": "python",
   "name": "python3"
  }
 },
 "nbformat": 4,
 "nbformat_minor": 4
}
